{
 "cells": [
  {
   "cell_type": "code",
   "execution_count": 1,
   "id": "73cb8d1a",
   "metadata": {
    "_cell_guid": "b1076dfc-b9ad-4769-8c92-a6c4dae69d19",
    "_uuid": "8f2839f25d086af736a60e9eeb907d3b93b6e0e5",
    "execution": {
     "iopub.execute_input": "2023-01-16T11:31:42.608485Z",
     "iopub.status.busy": "2023-01-16T11:31:42.608010Z",
     "iopub.status.idle": "2023-01-16T11:31:42.626593Z",
     "shell.execute_reply": "2023-01-16T11:31:42.625387Z"
    },
    "papermill": {
     "duration": 0.033223,
     "end_time": "2023-01-16T11:31:42.629183",
     "exception": false,
     "start_time": "2023-01-16T11:31:42.595960",
     "status": "completed"
    },
    "tags": []
   },
   "outputs": [
    {
     "name": "stdout",
     "output_type": "stream",
     "text": [
      "/kaggle/input/africa-economic-banking-and-systemic-crisis-data/african_crises.csv\n"
     ]
    }
   ],
   "source": [
    "import numpy as np\n",
    "import pandas as pd # data processing, CSV file I/O (e.g. pd.read_csv)\n",
    "import os\n",
    "for dirname, _, filenames in os.walk('/kaggle/input'):\n",
    "    for filename in filenames:\n",
    "        print(os.path.join(dirname, filename))\n"
   ]
  },
  {
   "cell_type": "code",
   "execution_count": 2,
   "id": "c4f2af67",
   "metadata": {
    "execution": {
     "iopub.execute_input": "2023-01-16T11:31:42.720202Z",
     "iopub.status.busy": "2023-01-16T11:31:42.719797Z",
     "iopub.status.idle": "2023-01-16T11:31:44.072635Z",
     "shell.execute_reply": "2023-01-16T11:31:44.071413Z"
    },
    "papermill": {
     "duration": 1.365586,
     "end_time": "2023-01-16T11:31:44.075536",
     "exception": false,
     "start_time": "2023-01-16T11:31:42.709950",
     "status": "completed"
    },
    "tags": []
   },
   "outputs": [],
   "source": [
    "import pandas as pd\n",
    "import matplotlib.pyplot as plt\n",
    "import numpy as np\n",
    "import seaborn as sns\n",
    "from sklearn.model_selection import train_test_split\n",
    "from sklearn import svm\n",
    "from sklearn.metrics import accuracy_score"
   ]
  },
  {
   "cell_type": "code",
   "execution_count": 3,
   "id": "652f36f0",
   "metadata": {
    "execution": {
     "iopub.execute_input": "2023-01-16T11:31:44.095686Z",
     "iopub.status.busy": "2023-01-16T11:31:44.094599Z",
     "iopub.status.idle": "2023-01-16T11:31:44.145192Z",
     "shell.execute_reply": "2023-01-16T11:31:44.143875Z"
    },
    "papermill": {
     "duration": 0.063375,
     "end_time": "2023-01-16T11:31:44.147855",
     "exception": false,
     "start_time": "2023-01-16T11:31:44.084480",
     "status": "completed"
    },
    "tags": []
   },
   "outputs": [
    {
     "data": {
      "text/html": [
       "<div>\n",
       "<style scoped>\n",
       "    .dataframe tbody tr th:only-of-type {\n",
       "        vertical-align: middle;\n",
       "    }\n",
       "\n",
       "    .dataframe tbody tr th {\n",
       "        vertical-align: top;\n",
       "    }\n",
       "\n",
       "    .dataframe thead th {\n",
       "        text-align: right;\n",
       "    }\n",
       "</style>\n",
       "<table border=\"1\" class=\"dataframe\">\n",
       "  <thead>\n",
       "    <tr style=\"text-align: right;\">\n",
       "      <th></th>\n",
       "      <th>case</th>\n",
       "      <th>cc3</th>\n",
       "      <th>country</th>\n",
       "      <th>year</th>\n",
       "      <th>systemic_crisis</th>\n",
       "      <th>exch_usd</th>\n",
       "      <th>domestic_debt_in_default</th>\n",
       "      <th>sovereign_external_debt_default</th>\n",
       "      <th>gdp_weighted_default</th>\n",
       "      <th>inflation_annual_cpi</th>\n",
       "      <th>independence</th>\n",
       "      <th>currency_crises</th>\n",
       "      <th>inflation_crises</th>\n",
       "      <th>banking_crisis</th>\n",
       "    </tr>\n",
       "  </thead>\n",
       "  <tbody>\n",
       "    <tr>\n",
       "      <th>0</th>\n",
       "      <td>1</td>\n",
       "      <td>DZA</td>\n",
       "      <td>Algeria</td>\n",
       "      <td>1870</td>\n",
       "      <td>1</td>\n",
       "      <td>0.052264</td>\n",
       "      <td>0</td>\n",
       "      <td>0</td>\n",
       "      <td>0.0</td>\n",
       "      <td>3.441456</td>\n",
       "      <td>0</td>\n",
       "      <td>0</td>\n",
       "      <td>0</td>\n",
       "      <td>crisis</td>\n",
       "    </tr>\n",
       "    <tr>\n",
       "      <th>1</th>\n",
       "      <td>1</td>\n",
       "      <td>DZA</td>\n",
       "      <td>Algeria</td>\n",
       "      <td>1871</td>\n",
       "      <td>0</td>\n",
       "      <td>0.052798</td>\n",
       "      <td>0</td>\n",
       "      <td>0</td>\n",
       "      <td>0.0</td>\n",
       "      <td>14.149140</td>\n",
       "      <td>0</td>\n",
       "      <td>0</td>\n",
       "      <td>0</td>\n",
       "      <td>no_crisis</td>\n",
       "    </tr>\n",
       "    <tr>\n",
       "      <th>2</th>\n",
       "      <td>1</td>\n",
       "      <td>DZA</td>\n",
       "      <td>Algeria</td>\n",
       "      <td>1872</td>\n",
       "      <td>0</td>\n",
       "      <td>0.052274</td>\n",
       "      <td>0</td>\n",
       "      <td>0</td>\n",
       "      <td>0.0</td>\n",
       "      <td>-3.718593</td>\n",
       "      <td>0</td>\n",
       "      <td>0</td>\n",
       "      <td>0</td>\n",
       "      <td>no_crisis</td>\n",
       "    </tr>\n",
       "    <tr>\n",
       "      <th>3</th>\n",
       "      <td>1</td>\n",
       "      <td>DZA</td>\n",
       "      <td>Algeria</td>\n",
       "      <td>1873</td>\n",
       "      <td>0</td>\n",
       "      <td>0.051680</td>\n",
       "      <td>0</td>\n",
       "      <td>0</td>\n",
       "      <td>0.0</td>\n",
       "      <td>11.203897</td>\n",
       "      <td>0</td>\n",
       "      <td>0</td>\n",
       "      <td>0</td>\n",
       "      <td>no_crisis</td>\n",
       "    </tr>\n",
       "    <tr>\n",
       "      <th>4</th>\n",
       "      <td>1</td>\n",
       "      <td>DZA</td>\n",
       "      <td>Algeria</td>\n",
       "      <td>1874</td>\n",
       "      <td>0</td>\n",
       "      <td>0.051308</td>\n",
       "      <td>0</td>\n",
       "      <td>0</td>\n",
       "      <td>0.0</td>\n",
       "      <td>-3.848561</td>\n",
       "      <td>0</td>\n",
       "      <td>0</td>\n",
       "      <td>0</td>\n",
       "      <td>no_crisis</td>\n",
       "    </tr>\n",
       "    <tr>\n",
       "      <th>...</th>\n",
       "      <td>...</td>\n",
       "      <td>...</td>\n",
       "      <td>...</td>\n",
       "      <td>...</td>\n",
       "      <td>...</td>\n",
       "      <td>...</td>\n",
       "      <td>...</td>\n",
       "      <td>...</td>\n",
       "      <td>...</td>\n",
       "      <td>...</td>\n",
       "      <td>...</td>\n",
       "      <td>...</td>\n",
       "      <td>...</td>\n",
       "      <td>...</td>\n",
       "    </tr>\n",
       "    <tr>\n",
       "      <th>1054</th>\n",
       "      <td>70</td>\n",
       "      <td>ZWE</td>\n",
       "      <td>Zimbabwe</td>\n",
       "      <td>2009</td>\n",
       "      <td>1</td>\n",
       "      <td>354.800000</td>\n",
       "      <td>1</td>\n",
       "      <td>1</td>\n",
       "      <td>0.0</td>\n",
       "      <td>-7.670000</td>\n",
       "      <td>1</td>\n",
       "      <td>1</td>\n",
       "      <td>0</td>\n",
       "      <td>crisis</td>\n",
       "    </tr>\n",
       "    <tr>\n",
       "      <th>1055</th>\n",
       "      <td>70</td>\n",
       "      <td>ZWE</td>\n",
       "      <td>Zimbabwe</td>\n",
       "      <td>2010</td>\n",
       "      <td>0</td>\n",
       "      <td>378.200000</td>\n",
       "      <td>1</td>\n",
       "      <td>1</td>\n",
       "      <td>0.0</td>\n",
       "      <td>3.217000</td>\n",
       "      <td>1</td>\n",
       "      <td>0</td>\n",
       "      <td>0</td>\n",
       "      <td>no_crisis</td>\n",
       "    </tr>\n",
       "    <tr>\n",
       "      <th>1056</th>\n",
       "      <td>70</td>\n",
       "      <td>ZWE</td>\n",
       "      <td>Zimbabwe</td>\n",
       "      <td>2011</td>\n",
       "      <td>0</td>\n",
       "      <td>361.900000</td>\n",
       "      <td>1</td>\n",
       "      <td>1</td>\n",
       "      <td>0.0</td>\n",
       "      <td>4.920000</td>\n",
       "      <td>1</td>\n",
       "      <td>0</td>\n",
       "      <td>0</td>\n",
       "      <td>no_crisis</td>\n",
       "    </tr>\n",
       "    <tr>\n",
       "      <th>1057</th>\n",
       "      <td>70</td>\n",
       "      <td>ZWE</td>\n",
       "      <td>Zimbabwe</td>\n",
       "      <td>2012</td>\n",
       "      <td>0</td>\n",
       "      <td>361.900000</td>\n",
       "      <td>1</td>\n",
       "      <td>1</td>\n",
       "      <td>0.0</td>\n",
       "      <td>3.720000</td>\n",
       "      <td>1</td>\n",
       "      <td>0</td>\n",
       "      <td>0</td>\n",
       "      <td>no_crisis</td>\n",
       "    </tr>\n",
       "    <tr>\n",
       "      <th>1058</th>\n",
       "      <td>70</td>\n",
       "      <td>ZWE</td>\n",
       "      <td>Zimbabwe</td>\n",
       "      <td>2013</td>\n",
       "      <td>0</td>\n",
       "      <td>361.900000</td>\n",
       "      <td>1</td>\n",
       "      <td>1</td>\n",
       "      <td>0.0</td>\n",
       "      <td>1.632000</td>\n",
       "      <td>1</td>\n",
       "      <td>0</td>\n",
       "      <td>0</td>\n",
       "      <td>no_crisis</td>\n",
       "    </tr>\n",
       "  </tbody>\n",
       "</table>\n",
       "<p>1059 rows × 14 columns</p>\n",
       "</div>"
      ],
      "text/plain": [
       "      case  cc3   country  year  systemic_crisis    exch_usd  \\\n",
       "0        1  DZA   Algeria  1870                1    0.052264   \n",
       "1        1  DZA   Algeria  1871                0    0.052798   \n",
       "2        1  DZA   Algeria  1872                0    0.052274   \n",
       "3        1  DZA   Algeria  1873                0    0.051680   \n",
       "4        1  DZA   Algeria  1874                0    0.051308   \n",
       "...    ...  ...       ...   ...              ...         ...   \n",
       "1054    70  ZWE  Zimbabwe  2009                1  354.800000   \n",
       "1055    70  ZWE  Zimbabwe  2010                0  378.200000   \n",
       "1056    70  ZWE  Zimbabwe  2011                0  361.900000   \n",
       "1057    70  ZWE  Zimbabwe  2012                0  361.900000   \n",
       "1058    70  ZWE  Zimbabwe  2013                0  361.900000   \n",
       "\n",
       "      domestic_debt_in_default  sovereign_external_debt_default  \\\n",
       "0                            0                                0   \n",
       "1                            0                                0   \n",
       "2                            0                                0   \n",
       "3                            0                                0   \n",
       "4                            0                                0   \n",
       "...                        ...                              ...   \n",
       "1054                         1                                1   \n",
       "1055                         1                                1   \n",
       "1056                         1                                1   \n",
       "1057                         1                                1   \n",
       "1058                         1                                1   \n",
       "\n",
       "      gdp_weighted_default  inflation_annual_cpi  independence  \\\n",
       "0                      0.0              3.441456             0   \n",
       "1                      0.0             14.149140             0   \n",
       "2                      0.0             -3.718593             0   \n",
       "3                      0.0             11.203897             0   \n",
       "4                      0.0             -3.848561             0   \n",
       "...                    ...                   ...           ...   \n",
       "1054                   0.0             -7.670000             1   \n",
       "1055                   0.0              3.217000             1   \n",
       "1056                   0.0              4.920000             1   \n",
       "1057                   0.0              3.720000             1   \n",
       "1058                   0.0              1.632000             1   \n",
       "\n",
       "      currency_crises  inflation_crises banking_crisis  \n",
       "0                   0                 0         crisis  \n",
       "1                   0                 0      no_crisis  \n",
       "2                   0                 0      no_crisis  \n",
       "3                   0                 0      no_crisis  \n",
       "4                   0                 0      no_crisis  \n",
       "...               ...               ...            ...  \n",
       "1054                1                 0         crisis  \n",
       "1055                0                 0      no_crisis  \n",
       "1056                0                 0      no_crisis  \n",
       "1057                0                 0      no_crisis  \n",
       "1058                0                 0      no_crisis  \n",
       "\n",
       "[1059 rows x 14 columns]"
      ]
     },
     "execution_count": 3,
     "metadata": {},
     "output_type": "execute_result"
    }
   ],
   "source": [
    "crises=pd.read_csv('/kaggle/input/africa-economic-banking-and-systemic-crisis-data/african_crises.csv')\n",
    "crises"
   ]
  },
  {
   "cell_type": "code",
   "execution_count": 4,
   "id": "ed752007",
   "metadata": {
    "execution": {
     "iopub.execute_input": "2023-01-16T11:31:44.187815Z",
     "iopub.status.busy": "2023-01-16T11:31:44.186878Z",
     "iopub.status.idle": "2023-01-16T11:31:44.195485Z",
     "shell.execute_reply": "2023-01-16T11:31:44.194343Z"
    },
    "papermill": {
     "duration": 0.021852,
     "end_time": "2023-01-16T11:31:44.198010",
     "exception": false,
     "start_time": "2023-01-16T11:31:44.176158",
     "status": "completed"
    },
    "tags": []
   },
   "outputs": [
    {
     "data": {
      "text/plain": [
       "case                                 int64\n",
       "cc3                                 object\n",
       "country                             object\n",
       "year                                 int64\n",
       "systemic_crisis                      int64\n",
       "exch_usd                           float64\n",
       "domestic_debt_in_default             int64\n",
       "sovereign_external_debt_default      int64\n",
       "gdp_weighted_default               float64\n",
       "inflation_annual_cpi               float64\n",
       "independence                         int64\n",
       "currency_crises                      int64\n",
       "inflation_crises                     int64\n",
       "banking_crisis                      object\n",
       "dtype: object"
      ]
     },
     "execution_count": 4,
     "metadata": {},
     "output_type": "execute_result"
    }
   ],
   "source": [
    "crises.dtypes"
   ]
  },
  {
   "cell_type": "code",
   "execution_count": 5,
   "id": "ca75e101",
   "metadata": {
    "execution": {
     "iopub.execute_input": "2023-01-16T11:31:44.219671Z",
     "iopub.status.busy": "2023-01-16T11:31:44.218936Z",
     "iopub.status.idle": "2023-01-16T11:31:44.245847Z",
     "shell.execute_reply": "2023-01-16T11:31:44.244280Z"
    },
    "papermill": {
     "duration": 0.041032,
     "end_time": "2023-01-16T11:31:44.248994",
     "exception": false,
     "start_time": "2023-01-16T11:31:44.207962",
     "status": "completed"
    },
    "tags": []
   },
   "outputs": [
    {
     "name": "stdout",
     "output_type": "stream",
     "text": [
      "<class 'pandas.core.frame.DataFrame'>\n",
      "RangeIndex: 1059 entries, 0 to 1058\n",
      "Data columns (total 14 columns):\n",
      " #   Column                           Non-Null Count  Dtype  \n",
      "---  ------                           --------------  -----  \n",
      " 0   case                             1059 non-null   int64  \n",
      " 1   cc3                              1059 non-null   object \n",
      " 2   country                          1059 non-null   object \n",
      " 3   year                             1059 non-null   int64  \n",
      " 4   systemic_crisis                  1059 non-null   int64  \n",
      " 5   exch_usd                         1059 non-null   float64\n",
      " 6   domestic_debt_in_default         1059 non-null   int64  \n",
      " 7   sovereign_external_debt_default  1059 non-null   int64  \n",
      " 8   gdp_weighted_default             1059 non-null   float64\n",
      " 9   inflation_annual_cpi             1059 non-null   float64\n",
      " 10  independence                     1059 non-null   int64  \n",
      " 11  currency_crises                  1059 non-null   int64  \n",
      " 12  inflation_crises                 1059 non-null   int64  \n",
      " 13  banking_crisis                   1059 non-null   object \n",
      "dtypes: float64(3), int64(8), object(3)\n",
      "memory usage: 116.0+ KB\n"
     ]
    }
   ],
   "source": [
    "crises.info()"
   ]
  },
  {
   "cell_type": "code",
   "execution_count": 6,
   "id": "ca78e4e0",
   "metadata": {
    "execution": {
     "iopub.execute_input": "2023-01-16T11:31:44.289651Z",
     "iopub.status.busy": "2023-01-16T11:31:44.289282Z",
     "iopub.status.idle": "2023-01-16T11:31:44.333889Z",
     "shell.execute_reply": "2023-01-16T11:31:44.333084Z"
    },
    "papermill": {
     "duration": 0.058004,
     "end_time": "2023-01-16T11:31:44.335978",
     "exception": false,
     "start_time": "2023-01-16T11:31:44.277974",
     "status": "completed"
    },
    "tags": []
   },
   "outputs": [
    {
     "data": {
      "text/html": [
       "<div>\n",
       "<style scoped>\n",
       "    .dataframe tbody tr th:only-of-type {\n",
       "        vertical-align: middle;\n",
       "    }\n",
       "\n",
       "    .dataframe tbody tr th {\n",
       "        vertical-align: top;\n",
       "    }\n",
       "\n",
       "    .dataframe thead th {\n",
       "        text-align: right;\n",
       "    }\n",
       "</style>\n",
       "<table border=\"1\" class=\"dataframe\">\n",
       "  <thead>\n",
       "    <tr style=\"text-align: right;\">\n",
       "      <th></th>\n",
       "      <th>case</th>\n",
       "      <th>year</th>\n",
       "      <th>systemic_crisis</th>\n",
       "      <th>exch_usd</th>\n",
       "      <th>domestic_debt_in_default</th>\n",
       "      <th>sovereign_external_debt_default</th>\n",
       "      <th>gdp_weighted_default</th>\n",
       "      <th>inflation_annual_cpi</th>\n",
       "      <th>independence</th>\n",
       "      <th>currency_crises</th>\n",
       "      <th>inflation_crises</th>\n",
       "    </tr>\n",
       "  </thead>\n",
       "  <tbody>\n",
       "    <tr>\n",
       "      <th>count</th>\n",
       "      <td>1059.000000</td>\n",
       "      <td>1059.000000</td>\n",
       "      <td>1059.000000</td>\n",
       "      <td>1059.000000</td>\n",
       "      <td>1059.000000</td>\n",
       "      <td>1059.000000</td>\n",
       "      <td>1059.000000</td>\n",
       "      <td>1.059000e+03</td>\n",
       "      <td>1059.000000</td>\n",
       "      <td>1059.000000</td>\n",
       "      <td>1059.000000</td>\n",
       "    </tr>\n",
       "    <tr>\n",
       "      <th>mean</th>\n",
       "      <td>35.613787</td>\n",
       "      <td>1967.767705</td>\n",
       "      <td>0.077432</td>\n",
       "      <td>43.140831</td>\n",
       "      <td>0.039660</td>\n",
       "      <td>0.152975</td>\n",
       "      <td>0.006402</td>\n",
       "      <td>2.084889e+04</td>\n",
       "      <td>0.776204</td>\n",
       "      <td>0.132200</td>\n",
       "      <td>0.129367</td>\n",
       "    </tr>\n",
       "    <tr>\n",
       "      <th>std</th>\n",
       "      <td>23.692402</td>\n",
       "      <td>33.530632</td>\n",
       "      <td>0.267401</td>\n",
       "      <td>111.475380</td>\n",
       "      <td>0.195251</td>\n",
       "      <td>0.360133</td>\n",
       "      <td>0.043572</td>\n",
       "      <td>6.757274e+05</td>\n",
       "      <td>0.416984</td>\n",
       "      <td>0.349847</td>\n",
       "      <td>0.335765</td>\n",
       "    </tr>\n",
       "    <tr>\n",
       "      <th>min</th>\n",
       "      <td>1.000000</td>\n",
       "      <td>1860.000000</td>\n",
       "      <td>0.000000</td>\n",
       "      <td>0.000000</td>\n",
       "      <td>0.000000</td>\n",
       "      <td>0.000000</td>\n",
       "      <td>0.000000</td>\n",
       "      <td>-2.850214e+01</td>\n",
       "      <td>0.000000</td>\n",
       "      <td>0.000000</td>\n",
       "      <td>0.000000</td>\n",
       "    </tr>\n",
       "    <tr>\n",
       "      <th>25%</th>\n",
       "      <td>15.000000</td>\n",
       "      <td>1951.000000</td>\n",
       "      <td>0.000000</td>\n",
       "      <td>0.195350</td>\n",
       "      <td>0.000000</td>\n",
       "      <td>0.000000</td>\n",
       "      <td>0.000000</td>\n",
       "      <td>2.086162e+00</td>\n",
       "      <td>1.000000</td>\n",
       "      <td>0.000000</td>\n",
       "      <td>0.000000</td>\n",
       "    </tr>\n",
       "    <tr>\n",
       "      <th>50%</th>\n",
       "      <td>38.000000</td>\n",
       "      <td>1973.000000</td>\n",
       "      <td>0.000000</td>\n",
       "      <td>0.868400</td>\n",
       "      <td>0.000000</td>\n",
       "      <td>0.000000</td>\n",
       "      <td>0.000000</td>\n",
       "      <td>5.762330e+00</td>\n",
       "      <td>1.000000</td>\n",
       "      <td>0.000000</td>\n",
       "      <td>0.000000</td>\n",
       "    </tr>\n",
       "    <tr>\n",
       "      <th>75%</th>\n",
       "      <td>56.000000</td>\n",
       "      <td>1994.000000</td>\n",
       "      <td>0.000000</td>\n",
       "      <td>8.462750</td>\n",
       "      <td>0.000000</td>\n",
       "      <td>0.000000</td>\n",
       "      <td>0.000000</td>\n",
       "      <td>1.164405e+01</td>\n",
       "      <td>1.000000</td>\n",
       "      <td>0.000000</td>\n",
       "      <td>0.000000</td>\n",
       "    </tr>\n",
       "    <tr>\n",
       "      <th>max</th>\n",
       "      <td>70.000000</td>\n",
       "      <td>2014.000000</td>\n",
       "      <td>1.000000</td>\n",
       "      <td>744.306139</td>\n",
       "      <td>1.000000</td>\n",
       "      <td>1.000000</td>\n",
       "      <td>0.400000</td>\n",
       "      <td>2.198970e+07</td>\n",
       "      <td>1.000000</td>\n",
       "      <td>2.000000</td>\n",
       "      <td>1.000000</td>\n",
       "    </tr>\n",
       "  </tbody>\n",
       "</table>\n",
       "</div>"
      ],
      "text/plain": [
       "              case         year  systemic_crisis     exch_usd  \\\n",
       "count  1059.000000  1059.000000      1059.000000  1059.000000   \n",
       "mean     35.613787  1967.767705         0.077432    43.140831   \n",
       "std      23.692402    33.530632         0.267401   111.475380   \n",
       "min       1.000000  1860.000000         0.000000     0.000000   \n",
       "25%      15.000000  1951.000000         0.000000     0.195350   \n",
       "50%      38.000000  1973.000000         0.000000     0.868400   \n",
       "75%      56.000000  1994.000000         0.000000     8.462750   \n",
       "max      70.000000  2014.000000         1.000000   744.306139   \n",
       "\n",
       "       domestic_debt_in_default  sovereign_external_debt_default  \\\n",
       "count               1059.000000                      1059.000000   \n",
       "mean                   0.039660                         0.152975   \n",
       "std                    0.195251                         0.360133   \n",
       "min                    0.000000                         0.000000   \n",
       "25%                    0.000000                         0.000000   \n",
       "50%                    0.000000                         0.000000   \n",
       "75%                    0.000000                         0.000000   \n",
       "max                    1.000000                         1.000000   \n",
       "\n",
       "       gdp_weighted_default  inflation_annual_cpi  independence  \\\n",
       "count           1059.000000          1.059000e+03   1059.000000   \n",
       "mean               0.006402          2.084889e+04      0.776204   \n",
       "std                0.043572          6.757274e+05      0.416984   \n",
       "min                0.000000         -2.850214e+01      0.000000   \n",
       "25%                0.000000          2.086162e+00      1.000000   \n",
       "50%                0.000000          5.762330e+00      1.000000   \n",
       "75%                0.000000          1.164405e+01      1.000000   \n",
       "max                0.400000          2.198970e+07      1.000000   \n",
       "\n",
       "       currency_crises  inflation_crises  \n",
       "count      1059.000000       1059.000000  \n",
       "mean          0.132200          0.129367  \n",
       "std           0.349847          0.335765  \n",
       "min           0.000000          0.000000  \n",
       "25%           0.000000          0.000000  \n",
       "50%           0.000000          0.000000  \n",
       "75%           0.000000          0.000000  \n",
       "max           2.000000          1.000000  "
      ]
     },
     "execution_count": 6,
     "metadata": {},
     "output_type": "execute_result"
    }
   ],
   "source": [
    "crises.describe()"
   ]
  },
  {
   "cell_type": "code",
   "execution_count": 7,
   "id": "15fa4bd6",
   "metadata": {
    "execution": {
     "iopub.execute_input": "2023-01-16T11:31:44.397438Z",
     "iopub.status.busy": "2023-01-16T11:31:44.397083Z",
     "iopub.status.idle": "2023-01-16T11:31:44.404311Z",
     "shell.execute_reply": "2023-01-16T11:31:44.403263Z"
    },
    "papermill": {
     "duration": 0.021037,
     "end_time": "2023-01-16T11:31:44.406538",
     "exception": false,
     "start_time": "2023-01-16T11:31:44.385501",
     "status": "completed"
    },
    "tags": []
   },
   "outputs": [],
   "source": [
    "crises.replace({'banking_crisis':{'crisis':1,'no_crisis': 0}},inplace=True)"
   ]
  },
  {
   "cell_type": "code",
   "execution_count": 8,
   "id": "258aef0c",
   "metadata": {
    "execution": {
     "iopub.execute_input": "2023-01-16T11:31:44.449242Z",
     "iopub.status.busy": "2023-01-16T11:31:44.448332Z",
     "iopub.status.idle": "2023-01-16T11:31:44.465181Z",
     "shell.execute_reply": "2023-01-16T11:31:44.464155Z"
    },
    "papermill": {
     "duration": 0.030638,
     "end_time": "2023-01-16T11:31:44.467419",
     "exception": false,
     "start_time": "2023-01-16T11:31:44.436781",
     "status": "completed"
    },
    "tags": []
   },
   "outputs": [
    {
     "data": {
      "text/html": [
       "<div>\n",
       "<style scoped>\n",
       "    .dataframe tbody tr th:only-of-type {\n",
       "        vertical-align: middle;\n",
       "    }\n",
       "\n",
       "    .dataframe tbody tr th {\n",
       "        vertical-align: top;\n",
       "    }\n",
       "\n",
       "    .dataframe thead th {\n",
       "        text-align: right;\n",
       "    }\n",
       "</style>\n",
       "<table border=\"1\" class=\"dataframe\">\n",
       "  <thead>\n",
       "    <tr style=\"text-align: right;\">\n",
       "      <th></th>\n",
       "      <th>case</th>\n",
       "      <th>cc3</th>\n",
       "      <th>country</th>\n",
       "      <th>year</th>\n",
       "      <th>systemic_crisis</th>\n",
       "      <th>exch_usd</th>\n",
       "      <th>domestic_debt_in_default</th>\n",
       "      <th>sovereign_external_debt_default</th>\n",
       "      <th>gdp_weighted_default</th>\n",
       "      <th>inflation_annual_cpi</th>\n",
       "      <th>independence</th>\n",
       "      <th>currency_crises</th>\n",
       "      <th>inflation_crises</th>\n",
       "      <th>banking_crisis</th>\n",
       "    </tr>\n",
       "  </thead>\n",
       "  <tbody>\n",
       "    <tr>\n",
       "      <th>0</th>\n",
       "      <td>1</td>\n",
       "      <td>DZA</td>\n",
       "      <td>Algeria</td>\n",
       "      <td>1870</td>\n",
       "      <td>1</td>\n",
       "      <td>0.052264</td>\n",
       "      <td>0</td>\n",
       "      <td>0</td>\n",
       "      <td>0.0</td>\n",
       "      <td>3.441456</td>\n",
       "      <td>0</td>\n",
       "      <td>0</td>\n",
       "      <td>0</td>\n",
       "      <td>1</td>\n",
       "    </tr>\n",
       "    <tr>\n",
       "      <th>1</th>\n",
       "      <td>1</td>\n",
       "      <td>DZA</td>\n",
       "      <td>Algeria</td>\n",
       "      <td>1871</td>\n",
       "      <td>0</td>\n",
       "      <td>0.052798</td>\n",
       "      <td>0</td>\n",
       "      <td>0</td>\n",
       "      <td>0.0</td>\n",
       "      <td>14.149140</td>\n",
       "      <td>0</td>\n",
       "      <td>0</td>\n",
       "      <td>0</td>\n",
       "      <td>0</td>\n",
       "    </tr>\n",
       "    <tr>\n",
       "      <th>2</th>\n",
       "      <td>1</td>\n",
       "      <td>DZA</td>\n",
       "      <td>Algeria</td>\n",
       "      <td>1872</td>\n",
       "      <td>0</td>\n",
       "      <td>0.052274</td>\n",
       "      <td>0</td>\n",
       "      <td>0</td>\n",
       "      <td>0.0</td>\n",
       "      <td>-3.718593</td>\n",
       "      <td>0</td>\n",
       "      <td>0</td>\n",
       "      <td>0</td>\n",
       "      <td>0</td>\n",
       "    </tr>\n",
       "    <tr>\n",
       "      <th>3</th>\n",
       "      <td>1</td>\n",
       "      <td>DZA</td>\n",
       "      <td>Algeria</td>\n",
       "      <td>1873</td>\n",
       "      <td>0</td>\n",
       "      <td>0.051680</td>\n",
       "      <td>0</td>\n",
       "      <td>0</td>\n",
       "      <td>0.0</td>\n",
       "      <td>11.203897</td>\n",
       "      <td>0</td>\n",
       "      <td>0</td>\n",
       "      <td>0</td>\n",
       "      <td>0</td>\n",
       "    </tr>\n",
       "    <tr>\n",
       "      <th>4</th>\n",
       "      <td>1</td>\n",
       "      <td>DZA</td>\n",
       "      <td>Algeria</td>\n",
       "      <td>1874</td>\n",
       "      <td>0</td>\n",
       "      <td>0.051308</td>\n",
       "      <td>0</td>\n",
       "      <td>0</td>\n",
       "      <td>0.0</td>\n",
       "      <td>-3.848561</td>\n",
       "      <td>0</td>\n",
       "      <td>0</td>\n",
       "      <td>0</td>\n",
       "      <td>0</td>\n",
       "    </tr>\n",
       "  </tbody>\n",
       "</table>\n",
       "</div>"
      ],
      "text/plain": [
       "   case  cc3  country  year  systemic_crisis  exch_usd  \\\n",
       "0     1  DZA  Algeria  1870                1  0.052264   \n",
       "1     1  DZA  Algeria  1871                0  0.052798   \n",
       "2     1  DZA  Algeria  1872                0  0.052274   \n",
       "3     1  DZA  Algeria  1873                0  0.051680   \n",
       "4     1  DZA  Algeria  1874                0  0.051308   \n",
       "\n",
       "   domestic_debt_in_default  sovereign_external_debt_default  \\\n",
       "0                         0                                0   \n",
       "1                         0                                0   \n",
       "2                         0                                0   \n",
       "3                         0                                0   \n",
       "4                         0                                0   \n",
       "\n",
       "   gdp_weighted_default  inflation_annual_cpi  independence  currency_crises  \\\n",
       "0                   0.0              3.441456             0                0   \n",
       "1                   0.0             14.149140             0                0   \n",
       "2                   0.0             -3.718593             0                0   \n",
       "3                   0.0             11.203897             0                0   \n",
       "4                   0.0             -3.848561             0                0   \n",
       "\n",
       "   inflation_crises  banking_crisis  \n",
       "0                 0               1  \n",
       "1                 0               0  \n",
       "2                 0               0  \n",
       "3                 0               0  \n",
       "4                 0               0  "
      ]
     },
     "execution_count": 8,
     "metadata": {},
     "output_type": "execute_result"
    }
   ],
   "source": [
    "crises.head()"
   ]
  },
  {
   "cell_type": "code",
   "execution_count": 9,
   "id": "ef017d1f",
   "metadata": {
    "execution": {
     "iopub.execute_input": "2023-01-16T11:31:44.510824Z",
     "iopub.status.busy": "2023-01-16T11:31:44.510451Z",
     "iopub.status.idle": "2023-01-16T11:31:44.949843Z",
     "shell.execute_reply": "2023-01-16T11:31:44.948673Z"
    },
    "papermill": {
     "duration": 0.453774,
     "end_time": "2023-01-16T11:31:44.952349",
     "exception": false,
     "start_time": "2023-01-16T11:31:44.498575",
     "status": "completed"
    },
    "tags": []
   },
   "outputs": [
    {
     "data": {
      "image/png": "[encoded data removed]",
      "text/plain": [
       "<Figure size 432x288 with 1 Axes>"
      ]
     },
     "metadata": {
      "needs_background": "light"
     },
     "output_type": "display_data"
    }
   ],
   "source": [
    "sns.regplot(x='year',y='exch_usd',data=crises).set(title='Relationship between the exchange rate and time')\n",
    "plt.show()"
   ]
  },
  {
   "cell_type": "code",
   "execution_count": 10,
   "id": "873b9673",
   "metadata": {
    "execution": {
     "iopub.execute_input": "2023-01-16T11:31:44.996817Z",
     "iopub.status.busy": "2023-01-16T11:31:44.996442Z",
     "iopub.status.idle": "2023-01-16T11:31:45.963625Z",
     "shell.execute_reply": "2023-01-16T11:31:45.962549Z"
    },
    "papermill": {
     "duration": 0.981686,
     "end_time": "2023-01-16T11:31:45.966231",
     "exception": false,
     "start_time": "2023-01-16T11:31:44.984545",
     "status": "completed"
    },
    "tags": []
   },
   "outputs": [
    {
     "data": {
      "image/png": "[encoded data removed]",
      "text/plain": [
       "<Figure size 800x800 with 1 Axes>"
      ]
     },
     "metadata": {
      "needs_background": "light"
     },
     "output_type": "display_data"
    }
   ],
   "source": [
    "plt.figure(figsize=(8,8),dpi=100)\n",
    "sns.barplot(x='country',y='exch_usd',data=crises,hue='systemic_crisis',estimator=np.mean).set(title='Average Exchange rate(USD) with and without a Systemic Crisis')\n",
    "plt.xticks(rotation=60)\n",
    "plt.show()"
   ]
  },
  {
   "cell_type": "code",
   "execution_count": 12,
   "id": "16cc93d3",
   "metadata": {
    "execution": {
     "iopub.execute_input": "2023-01-16T11:31:46.613994Z",
     "iopub.status.busy": "2023-01-16T11:31:46.613216Z",
     "iopub.status.idle": "2023-01-16T11:31:46.628054Z",
     "shell.execute_reply": "2023-01-16T11:31:46.626973Z"
    },
    "papermill": {
     "duration": 0.030583,
     "end_time": "2023-01-16T11:31:46.630442",
     "exception": false,
     "start_time": "2023-01-16T11:31:46.599859",
     "status": "completed"
    },
    "tags": []
   },
   "outputs": [
    {
     "data": {
      "text/html": [
       "<div>\n",
       "<style scoped>\n",
       "    .dataframe tbody tr th:only-of-type {\n",
       "        vertical-align: middle;\n",
       "    }\n",
       "\n",
       "    .dataframe tbody tr th {\n",
       "        vertical-align: top;\n",
       "    }\n",
       "\n",
       "    .dataframe thead th {\n",
       "        text-align: right;\n",
       "    }\n",
       "</style>\n",
       "<table border=\"1\" class=\"dataframe\">\n",
       "  <thead>\n",
       "    <tr style=\"text-align: right;\">\n",
       "      <th></th>\n",
       "      <th>inflation_annual_cpi</th>\n",
       "    </tr>\n",
       "    <tr>\n",
       "      <th>country</th>\n",
       "      <th></th>\n",
       "    </tr>\n",
       "  </thead>\n",
       "  <tbody>\n",
       "    <tr>\n",
       "      <th>Zimbabwe</th>\n",
       "      <td>245105.559428</td>\n",
       "    </tr>\n",
       "    <tr>\n",
       "      <th>Angola</th>\n",
       "      <td>152.090470</td>\n",
       "    </tr>\n",
       "    <tr>\n",
       "      <th>Zambia</th>\n",
       "      <td>21.997512</td>\n",
       "    </tr>\n",
       "    <tr>\n",
       "      <th>Nigeria</th>\n",
       "      <td>14.766862</td>\n",
       "    </tr>\n",
       "    <tr>\n",
       "      <th>Algeria</th>\n",
       "      <td>9.920998</td>\n",
       "    </tr>\n",
       "    <tr>\n",
       "      <th>Tunisia</th>\n",
       "      <td>9.291669</td>\n",
       "    </tr>\n",
       "    <tr>\n",
       "      <th>Kenya</th>\n",
       "      <td>8.725192</td>\n",
       "    </tr>\n",
       "    <tr>\n",
       "      <th>Morocco</th>\n",
       "      <td>8.680358</td>\n",
       "    </tr>\n",
       "    <tr>\n",
       "      <th>Mauritius</th>\n",
       "      <td>6.854715</td>\n",
       "    </tr>\n",
       "    <tr>\n",
       "      <th>Ivory Coast</th>\n",
       "      <td>6.109254</td>\n",
       "    </tr>\n",
       "    <tr>\n",
       "      <th>Central African Republic</th>\n",
       "      <td>5.849863</td>\n",
       "    </tr>\n",
       "    <tr>\n",
       "      <th>South Africa</th>\n",
       "      <td>5.190383</td>\n",
       "    </tr>\n",
       "    <tr>\n",
       "      <th>Egypt</th>\n",
       "      <td>4.762431</td>\n",
       "    </tr>\n",
       "  </tbody>\n",
       "</table>\n",
       "</div>"
      ],
      "text/plain": [
       "                          inflation_annual_cpi\n",
       "country                                       \n",
       "Zimbabwe                         245105.559428\n",
       "Angola                              152.090470\n",
       "Zambia                               21.997512\n",
       "Nigeria                              14.766862\n",
       "Algeria                               9.920998\n",
       "Tunisia                               9.291669\n",
       "Kenya                                 8.725192\n",
       "Morocco                               8.680358\n",
       "Mauritius                             6.854715\n",
       "Ivory Coast                           6.109254\n",
       "Central African Republic              5.849863\n",
       "South Africa                          5.190383\n",
       "Egypt                                 4.762431"
      ]
     },
     "execution_count": 12,
     "metadata": {},
     "output_type": "execute_result"
    }
   ],
   "source": [
    "crises.groupby('country').aggregate({'inflation_annual_cpi': 'mean'}).sort_values('inflation_annual_cpi', ascending=False)"
   ]
  },
  {
   "cell_type": "code",
   "execution_count": 14,
   "id": "782d8028",
   "metadata": {
    "execution": {
     "iopub.execute_input": "2023-01-16T11:31:47.990365Z",
     "iopub.status.busy": "2023-01-16T11:31:47.989968Z",
     "iopub.status.idle": "2023-01-16T11:31:47.996614Z",
     "shell.execute_reply": "2023-01-16T11:31:47.995812Z"
    },
    "papermill": {
     "duration": 0.024984,
     "end_time": "2023-01-16T11:31:47.998728",
     "exception": false,
     "start_time": "2023-01-16T11:31:47.973744",
     "status": "completed"
    },
    "tags": []
   },
   "outputs": [],
   "source": [
    "X=crises.drop(columns=['case','cc3','country','systemic_crisis'],axis=1)\n",
    "Y=crises['systemic_crisis']"
   ]
  },
  {
   "cell_type": "code",
   "execution_count": 16,
   "id": "3d048dab",
   "metadata": {
    "execution": {
     "iopub.execute_input": "2023-01-16T11:31:48.096522Z",
     "iopub.status.busy": "2023-01-16T11:31:48.096163Z",
     "iopub.status.idle": "2023-01-16T11:31:48.104407Z",
     "shell.execute_reply": "2023-01-16T11:31:48.103287Z"
    },
    "papermill": {
     "duration": 0.026595,
     "end_time": "2023-01-16T11:31:48.106699",
     "exception": false,
     "start_time": "2023-01-16T11:31:48.080104",
     "status": "completed"
    },
    "tags": []
   },
   "outputs": [],
   "source": [
    "train_X, test_X, train_Y, test_Y = train_test_split(X,Y,test_size=0.2,stratify=Y, random_state=2,)"
   ]
  },
  {
   "cell_type": "code",
   "execution_count": 17,
   "id": "11fa744a",
   "metadata": {
    "execution": {
     "iopub.execute_input": "2023-01-16T11:31:48.137757Z",
     "iopub.status.busy": "2023-01-16T11:31:48.137341Z",
     "iopub.status.idle": "2023-01-16T11:31:48.143165Z",
     "shell.execute_reply": "2023-01-16T11:31:48.142022Z"
    },
    "papermill": {
     "duration": 0.024484,
     "end_time": "2023-01-16T11:31:48.146050",
     "exception": false,
     "start_time": "2023-01-16T11:31:48.121566",
     "status": "completed"
    },
    "tags": []
   },
   "outputs": [
    {
     "name": "stdout",
     "output_type": "stream",
     "text": [
      "(1059, 10) (847, 10) (212, 10)\n"
     ]
    }
   ],
   "source": [
    "print(X.shape,train_X.shape,test_X.shape)"
   ]
  },
  {
   "cell_type": "code",
   "execution_count": 18,
   "id": "8b1577dc",
   "metadata": {
    "execution": {
     "iopub.execute_input": "2023-01-16T11:31:48.240507Z",
     "iopub.status.busy": "2023-01-16T11:31:48.240109Z",
     "iopub.status.idle": "2023-01-16T11:31:48.244205Z",
     "shell.execute_reply": "2023-01-16T11:31:48.243508Z"
    },
    "papermill": {
     "duration": 0.022155,
     "end_time": "2023-01-16T11:31:48.246125",
     "exception": false,
     "start_time": "2023-01-16T11:31:48.223970",
     "status": "completed"
    },
    "tags": []
   },
   "outputs": [],
   "source": [
    "classifier = svm.SVC(kernel='linear')"
   ]
  },
  {
   "cell_type": "code",
   "execution_count": 19,
   "id": "97a0bb60",
   "metadata": {
    "execution": {
     "iopub.execute_input": "2023-01-16T11:31:48.277994Z",
     "iopub.status.busy": "2023-01-16T11:31:48.277550Z",
     "iopub.status.idle": "2023-01-16T11:31:55.950879Z",
     "shell.execute_reply": "2023-01-16T11:31:55.949773Z"
    },
    "papermill": {
     "duration": 7.691985,
     "end_time": "2023-01-16T11:31:55.953269",
     "exception": false,
     "start_time": "2023-01-16T11:31:48.261284",
     "status": "completed"
    },
    "tags": []
   },
   "outputs": [
    {
     "data": {
      "text/plain": [
       "SVC(kernel='linear')"
      ]
     },
     "execution_count": 19,
     "metadata": {},
     "output_type": "execute_result"
    }
   ],
   "source": [
    "classifier.fit(train_X,train_Y)"
   ]
  },
  {
   "cell_type": "code",
   "execution_count": 20,
   "id": "3df988cb",
   "metadata": {
    "execution": {
     "iopub.execute_input": "2023-01-16T11:31:56.017057Z",
     "iopub.status.busy": "2023-01-16T11:31:56.015997Z",
     "iopub.status.idle": "2023-01-16T11:31:56.026562Z",
     "shell.execute_reply": "2023-01-16T11:31:56.024987Z"
    },
    "papermill": {
     "duration": 0.030025,
     "end_time": "2023-01-16T11:31:56.029123",
     "exception": false,
     "start_time": "2023-01-16T11:31:55.999098",
     "status": "completed"
    },
    "tags": []
   },
   "outputs": [
    {
     "name": "stdout",
     "output_type": "stream",
     "text": [
      "Accuracy on training data : 0.9799291617473436\n"
     ]
    }
   ],
   "source": [
    "train_X_pred = classifier.predict(train_X)\n",
    "training_data_accuracy=accuracy_score(train_X_pred,train_Y)\n",
    "print('Accuracy on training data :', training_data_accuracy)"
   ]
  },
  {
   "cell_type": "code",
   "execution_count": 21,
   "id": "c9555d5b",
   "metadata": {
    "execution": {
     "iopub.execute_input": "2023-01-16T11:31:56.091493Z",
     "iopub.status.busy": "2023-01-16T11:31:56.091094Z",
     "iopub.status.idle": "2023-01-16T11:31:56.101272Z",
     "shell.execute_reply": "2023-01-16T11:31:56.099875Z"
    },
    "papermill": {
     "duration": 0.029515,
     "end_time": "2023-01-16T11:31:56.104198",
     "exception": false,
     "start_time": "2023-01-16T11:31:56.074683",
     "status": "completed"
    },
    "tags": []
   },
   "outputs": [
    {
     "name": "stdout",
     "output_type": "stream",
     "text": [
      "Accuracy on test data : 0.9669811320754716\n"
     ]
    }
   ],
   "source": [
    "test_X_pred = classifier.predict(test_X)\n",
    "test_data_accuracy=accuracy_score(test_X_pred,test_Y)\n",
    "print('Accuracy on test data :', test_data_accuracy)"
   ]
  }
 ],
 "metadata": {
  "kernelspec": {
   "display_name": "Python 3",
   "language": "python",
   "name": "python3"
  },
  "language_info": {
   "codemirror_mode": {
    "name": "ipython",
    "version": 3
   },
   "file_extension": ".py",
   "mimetype": "text/x-python",
   "name": "python",
   "nbconvert_exporter": "python",
   "pygments_lexer": "ipython3",
   "version": "3.7.12"
  },
  "papermill": {
   "default_parameters": {},
   "duration": 22.716762,
   "end_time": "2023-01-16T11:31:56.903448",
   "environment_variables": {},
   "exception": null,
   "input_path": "__notebook__.ipynb",
   "output_path": "__notebook__.ipynb",
   "parameters": {},
   "start_time": "2023-01-16T11:31:34.186686",
   "version": "2.3.4"
  }
 },
 "nbformat": 4,
 "nbformat_minor": 5
}
